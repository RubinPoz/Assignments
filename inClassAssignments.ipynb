{
  "cells": [
    {
      "cell_type": "markdown",
      "metadata": {
        "id": "view-in-github",
        "colab_type": "text"
      },
      "source": [
        "<a href=\"https://colab.research.google.com/github/RubinPoz/Assignments/blob/main/inClassAssignments.ipynb\" target=\"_parent\"><img src=\"https://colab.research.google.com/assets/colab-badge.svg\" alt=\"Open In Colab\"/></a>"
      ]
    },
    {
      "cell_type": "markdown",
      "metadata": {
        "id": "W3KGXwXj27XB"
      },
      "source": [
        "Write a program that calculates radius and height (and pi) using 3 inputs. The program than should calculate the surface area of a cynlider.\n",
        "\n",
        "Cylinder = 2piR^2 + 2Pi*R*H"
      ]
    },
    {
      "cell_type": "markdown",
      "source": [],
      "metadata": {
        "id": "WJg2IQ1IdMO7"
      }
    },
    {
      "cell_type": "code",
      "execution_count": null,
      "metadata": {
        "colab": {
          "base_uri": "https://localhost:8080/"
        },
        "id": "ttL77RpJ2ysY",
        "outputId": "b7413067-92a0-43f2-e223-e9f1f2cf9469"
      },
      "outputs": [
        {
          "name": "stdout",
          "output_type": "stream",
          "text": [
            "Please input your height: 7\n",
            "Please input your radius: 5\n",
            "\n",
            "Your cylinder's area is  376.98\n"
          ]
        }
      ],
      "source": [
        "Pi = 3.1415\n",
        "Height = int(input(\"Please input your height: \"))\n",
        "Radius = int(input(\"Please input your radius: \"))\n",
        "\n",
        "area = ((2*Pi) * (Radius **2)) + ((2*Pi)*Radius * Height)\n",
        "\n",
        "print(\"\\nYour cylinder's area is \", area)"
      ]
    },
    {
      "cell_type": "markdown",
      "metadata": {
        "id": "kRWww7Gp5_AG"
      },
      "source": [
        "Numerical calculator\n"
      ]
    },
    {
      "cell_type": "code",
      "execution_count": null,
      "metadata": {
        "colab": {
          "base_uri": "https://localhost:8080/"
        },
        "id": "hYettkGo55Ph",
        "outputId": "26fa946a-ef10-443a-9780-2c1ad8228c6f"
      },
      "outputs": [
        {
          "name": "stdout",
          "output_type": "stream",
          "text": [
            "please provide your first input: 6\n",
            "please provide your equation: *\n",
            "please provide second input: 7\n",
            "42\n"
          ]
        }
      ],
      "source": [
        "n1 = int(input('please provide your first input: '))\n",
        "operator = input('please provide your equation: ')\n",
        "n2 = int(input('please provide second input: '))\n",
        "\n",
        "if operator == '+':\n",
        "  equation = n1 + n2\n",
        "elif operator == '-':\n",
        "  equation = n1 - n2\n",
        "elif operator == '*' or 'x':\n",
        "  equation = n1 * n2\n",
        "elif operator == '/':\n",
        "  equation = n1 / n2\n",
        "elif operator == '**':\n",
        "  equation = n1 ** n2\n",
        "elif operator == '%':\n",
        "  equation = n1 % n2\n",
        "elif operator == '//':\n",
        "  equation = n1 // n2\n",
        "else:\n",
        "  print('invalid operator')\n",
        "print(equation)\n"
      ]
    },
    {
      "cell_type": "markdown",
      "metadata": {
        "id": "PODnHvArmdBC"
      },
      "source": [
        "A parking garage charges $5, plus $2.50 for each hpur parked. Ther minimum fee is $10 and maximum fee is $20\n",
        "\n",
        "Write a program that generates a table with hours parked and the corresponding fee from 1 to 8 hours"
      ]
    },
    {
      "cell_type": "code",
      "execution_count": null,
      "metadata": {
        "colab": {
          "base_uri": "https://localhost:8080/"
        },
        "id": "Q4twz6wymcpH",
        "outputId": "647ab84d-0271-4f0f-e3bb-7fcfc0afd4d1"
      },
      "outputs": [
        {
          "name": "stdout",
          "output_type": "stream",
          "text": [
            "1 10.0\n",
            "2 10.0\n",
            "3 12.5\n",
            "4 15.0\n",
            "5 17.5\n",
            "6 20.0\n",
            "7 20.0\n",
            "8 20.0\n"
          ]
        }
      ],
      "source": [
        "fee = 0\n",
        "\n",
        "for (hours) in range(1,9):\n",
        "  fee = 5 + (hours * 2.5)\n",
        "  if fee < 10.0:\n",
        "    fee = 10.0\n",
        "  elif fee > 20.0:\n",
        "    fee = 20.0\n",
        "  print(hours, fee)"
      ]
    },
    {
      "cell_type": "markdown",
      "metadata": {
        "id": "sLms9bFEq_-h"
      },
      "source": [
        "A movie theatre manager is deciding how much to spend on advertising an upcmmining movie. each ticket is $10. without any advertisment, 20 people are forcasted to attend, Additional people may attend based on advertiser spoending, estimated to be:\n",
        "[Additional atetendees = 2 * round(advertisingDollars]\n",
        "\n",
        "In addition to advertising costs, there are fixed cost to run a theatre of $200\n",
        "Wite a program to generate a table for differnt advertising amoutns and profits\n",
        "\n"
      ]
    },
    {
      "cell_type": "code",
      "execution_count": null,
      "metadata": {
        "colab": {
          "base_uri": "https://localhost:8080/"
        },
        "id": "YkZgAQ1WuRs8",
        "outputId": "5f675247-1a9b-4ad0-ea78-48cbe7991b20"
      },
      "outputs": [
        {
          "name": "stdout",
          "output_type": "stream",
          "text": [
            "Ad$: \t Profit:\n",
            "0 \t 0\n",
            "25 \t 75\n",
            "50 \t 90\n",
            "75 \t 105\n",
            "100 \t 100\n",
            "125 \t 95\n",
            "150 \t 90\n",
            "175 \t 85\n",
            "200 \t 80\n"
          ]
        }
      ],
      "source": [
        " print(\"Ad$:\", '\\t', \"Profit:\")\n",
        "\n",
        "for adMoney in range(0,201,25):\n",
        "  revenue = (20 + 2 * round(adMoney ** 0.5))*10\n",
        "  costs = 200 + adMoney\n",
        "  profit = revenue - costs\n",
        "  print(adMoney, '\\t', profit)"
      ]
    },
    {
      "cell_type": "code",
      "execution_count": null,
      "metadata": {
        "colab": {
          "base_uri": "https://localhost:8080/"
        },
        "id": "dOn7KN9_-hMR",
        "outputId": "a8c88109-1520-465b-e252-d7faff65dba5"
      },
      "outputs": [
        {
          "name": "stdout",
          "output_type": "stream",
          "text": [
            "Ad$: \t Profit:\n",
            "0 \t 0\n",
            "25 \t 75\n",
            "50 \t 90\n",
            "75 \t 105\n",
            "100 \t 100\n",
            "125 \t 95\n",
            "150 \t 90\n",
            "175 \t 85\n",
            "200 \t 80\n"
          ]
        }
      ],
      "source": [
        "print(\"Ad$:\", '\\t', \"Profit:\")\n",
        "adMoney = 0\n",
        "\n",
        "while adMoney <201:\n",
        "  revenue = (20 + 2 * round(adMoney ** 0.5))*10\n",
        "  costs = 200 + adMoney\n",
        "  profit = revenue - costs\n",
        "  print(adMoney, '\\t', profit)\n",
        "  adMoney = adMoney + 25\n"
      ]
    },
    {
      "cell_type": "code",
      "execution_count": null,
      "metadata": {
        "colab": {
          "base_uri": "https://localhost:8080/"
        },
        "id": "H12iOMeQAd2O",
        "outputId": "bf00c3af-a9db-46b6-be7b-6a8778c39d6b"
      },
      "outputs": [
        {
          "name": "stdout",
          "output_type": "stream",
          "text": [
            "8\n",
            "7\n",
            "6\n",
            "End\n"
          ]
        }
      ],
      "source": []
    },
    {
      "cell_type": "markdown",
      "metadata": {
        "id": "dINxGdRuWOV8"
      },
      "source": [
        "ROCK - PAPER - SCISSORS\n",
        "\n",
        "Write a program that includes two players playing the game. each given from th ekeyboard.\n",
        "\n",
        "The game repeats untill the user(s) decide to stop\n",
        "\n",
        "Rock > Paper > Scissors > Rock"
      ]
    },
    {
      "cell_type": "code",
      "execution_count": null,
      "metadata": {
        "colab": {
          "base_uri": "https://localhost:8080/"
        },
        "id": "TPJSzu3tWfxR",
        "outputId": "b59b88db-5c66-45f1-e530-7c326cb30bad"
      },
      "outputs": [
        {
          "output_type": "stream",
          "name": "stdout",
          "text": [
            "Would you like to play a game of rock paper scissors? (Y/N) N\n",
            "Have a good day\n"
          ]
        }
      ],
      "source": [
        "game = input('Would you like to play a game of rock paper scissors? (Y/N) ')\n",
        "\n",
        "while game == 'Y':\n",
        "  player1 = input('Player 1, please choose rock, paper, or scissors ')\n",
        "  player2 = input('Player 2, please choose rock, paper, or scissors ')\n",
        "  if player1 == player2:\n",
        "    print('It is a tie')\n",
        "  elif player1 == 'rock' and player2 == 'scissors':\n",
        "    print('Player 1 wins')\n",
        "  elif player1 == 'paper' and player2 == 'rock':\n",
        "    print('Player 1 wins')\n",
        "  elif player1 == 'scissors' and player2 == 'paper':\n",
        "    print('Player 1 wins')\n",
        "  else:\n",
        "    print('Player 2 wins')\n",
        "  game = input('Would you like to play a game of rock paper scissors? (Y/N) ')\n",
        "else: print('Have a good day')"
      ]
    },
    {
      "cell_type": "code",
      "execution_count": null,
      "metadata": {
        "colab": {
          "background_save": true,
          "base_uri": "https://localhost:8080/"
        },
        "id": "r4u2yOxhgDUT",
        "outputId": "7615dbc5-fa37-465e-8f4c-e9a849364850"
      },
      "outputs": [
        {
          "name": "stdout",
          "output_type": "stream",
          "text": [
            "Player 2 chose  paper\n",
            "Player 1 chose  rock\n",
            "Player 2 wins\n"
          ]
        }
      ],
      "source": [
        "import random\n",
        "\n",
        "game = input('Would you like to play a game of rock paper scissors? (Y/N) ')\n",
        "\n",
        "while game == 'Y':\n",
        "  player1 = input('Player 1, please choose rock, paper, or scissors ')\n",
        "  player2 = random.choice(['rock', 'paper', 'scissors'])\n",
        "\n",
        "  print('Player 1 chose ', player1,)\n",
        "  print('Player 2 chose ', player2,)\n",
        "\n",
        "  if player1 == player2:\n",
        "    print('It is a tie')\n",
        "  elif player1 == 'rock' and player2 == 'scissors' or player1 == 'scissors' and player2 == 'paper' or player1 == 'paper' and player2 == 'rock':\n",
        "   print('Player 1 wins')\n",
        "  else:\n",
        "    print('Player 2 wins')\n",
        "  game = input('Would you like to play a game of rock paper scissors? (Y/N) ')\n",
        "else: print('Have a good day')"
      ]
    },
    {
      "cell_type": "code",
      "source": [
        "h = \"This is a string\"\n",
        "\n",
        "for idx in range(0, len(h), 1):\n",
        "  print(h[idx])"
      ],
      "metadata": {
        "colab": {
          "base_uri": "https://localhost:8080/"
        },
        "id": "mmdF32FD9TGy",
        "outputId": "f3fc7da4-af1f-4d23-9bdb-ee66a0036027"
      },
      "execution_count": null,
      "outputs": [
        {
          "output_type": "stream",
          "name": "stdout",
          "text": [
            "T\n",
            "h\n",
            "i\n",
            "s\n",
            " \n",
            "i\n",
            "s\n",
            " \n",
            "a\n",
            " \n",
            "s\n",
            "t\n",
            "r\n",
            "i\n",
            "n\n",
            "g\n"
          ]
        }
      ]
    },
    {
      "cell_type": "code",
      "source": [
        "for char in h:\n",
        "  print(char)"
      ],
      "metadata": {
        "id": "zwqkL48BABxr"
      },
      "execution_count": null,
      "outputs": []
    },
    {
      "cell_type": "code",
      "source": [
        "h = \"This is a string\"\n",
        "w = \"Today is Friday\"\n",
        "\n",
        "for c in h:\n",
        "  if c in w:\n",
        "    print('found')\n",
        "    break"
      ],
      "metadata": {
        "colab": {
          "base_uri": "https://localhost:8080/"
        },
        "id": "oaB8oRaBBUPQ",
        "outputId": "112b2746-18fd-41ca-9e81-7af19ea01852"
      },
      "execution_count": null,
      "outputs": [
        {
          "output_type": "stream",
          "name": "stdout",
          "text": [
            "T\n",
            "i\n",
            "s\n",
            " \n",
            "i\n",
            "s\n",
            " \n",
            "a\n",
            " \n",
            "s\n",
            "r\n",
            "i\n"
          ]
        }
      ]
    },
    {
      "cell_type": "markdown",
      "source": [
        "SECTION 4!"
      ],
      "metadata": {
        "id": "KFIRNGmGEFRz"
      }
    },
    {
      "cell_type": "code",
      "source": [
        "empty = []\n",
        "pure = [1, 2, 3]\n",
        "L = [1, 'two', 3.14, [4, 5, 6]]\n",
        "\n",
        "L[2] = h\n",
        "print(L)\n",
        "\n",
        "pure.append([4, 5, 6])\n",
        "print(pure)\n"
      ],
      "metadata": {
        "colab": {
          "base_uri": "https://localhost:8080/"
        },
        "id": "jRPedbClED7x",
        "outputId": "5bafe843-a594-4253-b322-6a6d36cd5301"
      },
      "execution_count": null,
      "outputs": [
        {
          "output_type": "stream",
          "name": "stdout",
          "text": [
            "[1, 'two', 'This is a string', [4, 5, 6]]\n",
            "[1, 2, 3, [4, 5, 6]]\n"
          ]
        }
      ]
    },
    {
      "cell_type": "markdown",
      "source": [
        "Given an enmpty list, a porgram in Python that populates the list by repeatedly askinbg the user for numerical inputs. The process stops when the user gives 0. Finally, the list should be displayed in descending order."
      ],
      "metadata": {
        "id": "QrNw0PXpdRzi"
      }
    },
    {
      "cell_type": "code",
      "source": [
        "theList = []\n",
        "daNumber = 1\n",
        "\n",
        "while daNumber != 0:\n",
        "  daNumber = input(\"Please insert a numerical value: \")\n",
        "  theList.append(daNumber)\n",
        "  if daNumber == \"0\":\n",
        "    theList.sort()\n",
        "    theList.reverse()\n",
        "    print(theList)\n",
        "    break\n",
        "  else:\n",
        "    print(theList)"
      ],
      "metadata": {
        "colab": {
          "base_uri": "https://localhost:8080/"
        },
        "id": "jlc880Bbdgfx",
        "outputId": "c2184310-cc77-4f98-c057-bf8a1f14a28b"
      },
      "execution_count": null,
      "outputs": [
        {
          "output_type": "stream",
          "name": "stdout",
          "text": [
            "Please insert a numerical value: 6\n",
            "['6']\n",
            "Please insert a numerical value: 5\n",
            "['6', '5']\n",
            "Please insert a numerical value: \n",
            "['6', '5', '']\n",
            "Please insert a numerical value: \n",
            "['6', '5', '', '']\n",
            "Please insert a numerical value: 8\n",
            "['6', '5', '', '', '8']\n",
            "Please insert a numerical value: 4\n",
            "['6', '5', '', '', '8', '4']\n",
            "Please insert a numerical value: 2\n",
            "['6', '5', '', '', '8', '4', '2']\n",
            "Please insert a numerical value: 9\n",
            "['6', '5', '', '', '8', '4', '2', '9']\n",
            "Please insert a numerical value: 1\n",
            "['6', '5', '', '', '8', '4', '2', '9', '1']\n",
            "Please insert a numerical value: 1\n",
            "['6', '5', '', '', '8', '4', '2', '9', '1', '1']\n",
            "Please insert a numerical value: 0\n",
            "['9', '8', '6', '5', '4', '2', '1', '1', '0', '', '']\n"
          ]
        }
      ]
    },
    {
      "cell_type": "code",
      "source": [
        "months = {}\n",
        "\n",
        "names = ['Jan', 'Feb', 'Mar', 'Apr', 'May', 'Jun', 'Jul', 'Aug', 'Sep', 'Oct', 'Nov', 'Dec']\n",
        "numbers = [1,2,3,4,5,6,7,8,9,10,11,12]\n",
        "\n",
        "\n",
        "\n",
        "for idx in range(len(numbers)):\n",
        "\n",
        "  months[numbers[idx]] = names[idx]\n",
        "print(months)"
      ],
      "metadata": {
        "colab": {
          "base_uri": "https://localhost:8080/"
        },
        "id": "lzVwQMqzAgui",
        "outputId": "59a4f949-39b5-4d24-c86f-592e4c7ce925"
      },
      "execution_count": null,
      "outputs": [
        {
          "output_type": "stream",
          "name": "stdout",
          "text": [
            "{1: 'Jan', 2: 'Feb', 3: 'Mar', 4: 'Apr', 5: 'May', 6: 'Jun', 7: 'Jul', 8: 'Aug', 9: 'Sep', 10: 'Oct', 11: 'Nov', 12: 'Dec'}\n"
          ]
        }
      ]
    },
    {
      "cell_type": "markdown",
      "source": [
        "begin by creating an empty dicitonary, then use a while loop to read the strings from the user until 5 unique strings have been enetered."
      ],
      "metadata": {
        "id": "hYs2Zx-cHkAW"
      }
    },
    {
      "cell_type": "code",
      "source": [
        "userList = []\n",
        "unique = {}\n",
        "\n",
        "\n",
        "while len(unique) < 5:\n",
        "  userList.append(input(\"Please enter a string: \"))\n",
        "  if userList[-1] not in unique:\n",
        "    unique[userList[-1]] = 1\n",
        "  else:\n",
        "    unique[userList[-1]] += 1\n",
        "print(userList)\n"
      ],
      "metadata": {
        "colab": {
          "base_uri": "https://localhost:8080/"
        },
        "id": "8tKgdG7xHtyo",
        "outputId": "4ae9ec4a-0ff6-47fc-8f79-a10acc9e4e8e"
      },
      "execution_count": null,
      "outputs": [
        {
          "output_type": "stream",
          "name": "stdout",
          "text": [
            "Please enter a string: y\n",
            "Please enter a string: y\n",
            "Please enter a string: u\n",
            "Please enter a string: y\n",
            "Please enter a string: e\n",
            "Please enter a string: d\n",
            "Please enter a string: f\n",
            "['y', 'y', 'u', 'y', 'e', 'd', 'f']\n"
          ]
        }
      ]
    },
    {
      "cell_type": "code",
      "source": [
        "odds = []\n",
        "\n",
        "for num in range (1, 10, 2):\n",
        "  odds.append(num)\n",
        "print(odds)"
      ],
      "metadata": {
        "colab": {
          "base_uri": "https://localhost:8080/"
        },
        "id": "xmAmVY13dPwC",
        "outputId": "522f77a0-677e-4481-f972-e941ccf74b22"
      },
      "execution_count": null,
      "outputs": [
        {
          "output_type": "stream",
          "name": "stdout",
          "text": [
            "[1, 3, 5, 7, 9]\n"
          ]
        }
      ]
    },
    {
      "cell_type": "code",
      "source": [
        "odds = [num for num in range(1, 10, 2)]\n",
        "odds"
      ],
      "metadata": {
        "colab": {
          "base_uri": "https://localhost:8080/"
        },
        "id": "Gi1MFznMeCnc",
        "outputId": "2428a5c5-5871-4141-f8ae-4f39be63a374"
      },
      "execution_count": 4,
      "outputs": [
        {
          "output_type": "execute_result",
          "data": {
            "text/plain": [
              "[1, 3, 5, 7, 9]"
            ]
          },
          "metadata": {},
          "execution_count": 4
        }
      ]
    },
    {
      "cell_type": "markdown",
      "source": [
        "to define a function:\n",
        "\n",
        "start with : def\n"
      ],
      "metadata": {
        "id": "9EMQGtTLfb1q"
      }
    },
    {
      "cell_type": "markdown",
      "source": [
        "Parking Garage problem\n",
        "\n",
        "A parking garage charges $5 plus 2.50 for each hour parked. fees cannot exceed $20 and cannot be below $10. Write a program that prompts for the number of hours parked, and calculates the parking fee charged. As part of your program, define a function that calculates the parking fee given a number of hours. Use the signature: def calcFee(hours)"
      ],
      "metadata": {
        "id": "QwkC1G7m1YX6"
      }
    },
    {
      "cell_type": "code",
      "source": [
        "def calcFee(hours):\n",
        "  fee = 5 + (hours * 2.5)\n",
        "  if fee < 10.0:\n",
        "    fee = 10.0\n",
        "  elif fee > 20.0:\n",
        "    fee = 20.0\n",
        "  print('The parking fee for ' , (hours), 'is $', + (fee) )\n",
        "\n",
        "\n",
        "def main():\n",
        "  hours = int(input('Please enter the total hours parked: '))\n",
        "  calcFee(hours)\n",
        "\n",
        "main()"
      ],
      "metadata": {
        "colab": {
          "base_uri": "https://localhost:8080/"
        },
        "id": "H2ha_yvE1wPV",
        "outputId": "e31a35cd-a001-4527-979e-34546bca87a1"
      },
      "execution_count": null,
      "outputs": [
        {
          "output_type": "stream",
          "name": "stdout",
          "text": [
            "Please enter the total hours parked: 5\n",
            "The parking fee for  5 is $ 17.5\n"
          ]
        }
      ]
    },
    {
      "cell_type": "code",
      "source": [
        "def reverseWord(word):\n",
        " if len(word) <= 1:\n",
        "   return word\n",
        " else:\n",
        "   return word[-1] + reverseWord(word[:-1])\n",
        "\n",
        "print(reverseWord('Hello'))\n"
      ],
      "metadata": {
        "colab": {
          "base_uri": "https://localhost:8080/"
        },
        "id": "HV0hrlGHdg_V",
        "outputId": "c5ce9390-e96f-4d04-a36c-9d12b1fd9c8c"
      },
      "execution_count": null,
      "outputs": [
        {
          "output_type": "stream",
          "name": "stdout",
          "text": [
            "olleH\n"
          ]
        }
      ]
    },
    {
      "cell_type": "code",
      "source": [
        "class greeting:\n",
        "  def __init__(self, first, last):\n",
        "    self.first = first\n",
        "    self.last = last\n",
        "\n",
        "  def display(self, formal = False):\n",
        "    if formal == True:\n",
        "      print(\"Hello Mr. \" + self.first + \" \" + self.last)\n",
        "    else:\n",
        "      print(\"Hi \" + self.first)\n",
        "\n",
        "  def __str__(self):\n",
        "    return self.first + \" \" + self.last\n",
        "\n",
        "  def __repr__(self):\n",
        "    return self.first + \" \" + self.last\n",
        "\n",
        "\n",
        "\n",
        "\n",
        "test = greeting(\"Donald\", \"Becker\")\n",
        "test.display(formal = True)\n"
      ],
      "metadata": {
        "colab": {
          "base_uri": "https://localhost:8080/"
        },
        "id": "dw-MYJuPVz8N",
        "outputId": "92f51e45-5b9b-44cc-9612-4b950d7223fe"
      },
      "execution_count": 3,
      "outputs": [
        {
          "output_type": "stream",
          "name": "stdout",
          "text": [
            "Hello Mr. Donald Becker\n"
          ]
        }
      ]
    }
  ],
  "metadata": {
    "colab": {
      "provenance": [],
      "authorship_tag": "ABX9TyNHFOAHg0EU101nREpwSn57",
      "include_colab_link": true
    },
    "kernelspec": {
      "display_name": "Python 3",
      "name": "python3"
    },
    "language_info": {
      "name": "python"
    }
  },
  "nbformat": 4,
  "nbformat_minor": 0
}