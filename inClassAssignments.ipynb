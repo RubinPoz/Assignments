{
  "cells": [
    {
      "cell_type": "markdown",
      "metadata": {
        "id": "view-in-github",
        "colab_type": "text"
      },
      "source": [
        "<a href=\"https://colab.research.google.com/github/RubinPoz/Assignments/blob/main/inClassAssignments.ipynb\" target=\"_parent\"><img src=\"https://colab.research.google.com/assets/colab-badge.svg\" alt=\"Open In Colab\"/></a>"
      ]
    },
    {
      "cell_type": "markdown",
      "metadata": {
        "id": "W3KGXwXj27XB"
      },
      "source": [
        "Write a program that calculates radius and height (and pi) using 3 inputs. The program than should calculate the surface area of a cynlider.\n",
        "\n",
        "Cylinder = 2piR^2 + 2Pi*R*H"
      ]
    },
    {
      "cell_type": "markdown",
      "source": [],
      "metadata": {
        "id": "WJg2IQ1IdMO7"
      }
    },
    {
      "cell_type": "code",
      "execution_count": null,
      "metadata": {
        "colab": {
          "base_uri": "https://localhost:8080/"
        },
        "id": "ttL77RpJ2ysY",
        "outputId": "b7413067-92a0-43f2-e223-e9f1f2cf9469"
      },
      "outputs": [
        {
          "name": "stdout",
          "output_type": "stream",
          "text": [
            "Please input your height: 7\n",
            "Please input your radius: 5\n",
            "\n",
            "Your cylinder's area is  376.98\n"
          ]
        }
      ],
      "source": [
        "Pi = 3.1415\n",
        "Height = int(input(\"Please input your height: \"))\n",
        "Radius = int(input(\"Please input your radius: \"))\n",
        "\n",
        "area = ((2*Pi) * (Radius **2)) + ((2*Pi)*Radius * Height)\n",
        "\n",
        "print(\"\\nYour cylinder's area is \", area)"
      ]
    },
    {
      "cell_type": "markdown",
      "metadata": {
        "id": "kRWww7Gp5_AG"
      },
      "source": [
        "Numerical calculator\n"
      ]
    },
    {
      "cell_type": "code",
      "execution_count": null,
      "metadata": {
        "colab": {
          "base_uri": "https://localhost:8080/"
        },
        "id": "hYettkGo55Ph",
        "outputId": "26fa946a-ef10-443a-9780-2c1ad8228c6f"
      },
      "outputs": [
        {
          "name": "stdout",
          "output_type": "stream",
          "text": [
            "please provide your first input: 6\n",
            "please provide your equation: *\n",
            "please provide second input: 7\n",
            "42\n"
          ]
        }
      ],
      "source": [
        "n1 = int(input('please provide your first input: '))\n",
        "operator = input('please provide your equation: ')\n",
        "n2 = int(input('please provide second input: '))\n",
        "\n",
        "if operator == '+':\n",
        "  equation = n1 + n2\n",
        "elif operator == '-':\n",
        "  equation = n1 - n2\n",
        "elif operator == '*' or 'x':\n",
        "  equation = n1 * n2\n",
        "elif operator == '/':\n",
        "  equation = n1 / n2\n",
        "elif operator == '**':\n",
        "  equation = n1 ** n2\n",
        "elif operator == '%':\n",
        "  equation = n1 % n2\n",
        "elif operator == '//':\n",
        "  equation = n1 // n2\n",
        "else:\n",
        "  print('invalid operator')\n",
        "print(equation)\n"
      ]
    },
    {
      "cell_type": "markdown",
      "metadata": {
        "id": "PODnHvArmdBC"
      },
      "source": [
        "A parking garage charges $5, plus $2.50 for each hpur parked. Ther minimum fee is $10 and maximum fee is $20\n",
        "\n",
        "Write a program that generates a table with hours parked and the corresponding fee from 1 to 8 hours"
      ]
    },
    {
      "cell_type": "code",
      "execution_count": null,
      "metadata": {
        "colab": {
          "base_uri": "https://localhost:8080/"
        },
        "id": "Q4twz6wymcpH",
        "outputId": "647ab84d-0271-4f0f-e3bb-7fcfc0afd4d1"
      },
      "outputs": [
        {
          "name": "stdout",
          "output_type": "stream",
          "text": [
            "1 10.0\n",
            "2 10.0\n",
            "3 12.5\n",
            "4 15.0\n",
            "5 17.5\n",
            "6 20.0\n",
            "7 20.0\n",
            "8 20.0\n"
          ]
        }
      ],
      "source": [
        "fee = 0\n",
        "\n",
        "for (hours) in range(1,9):\n",
        "  fee = 5 + (hours * 2.5)\n",
        "  if fee < 10.0:\n",
        "    fee = 10.0\n",
        "  elif fee > 20.0:\n",
        "    fee = 20.0\n",
        "  print(hours, fee)"
      ]
    },
    {
      "cell_type": "markdown",
      "metadata": {
        "id": "sLms9bFEq_-h"
      },
      "source": [
        "A movie theatre manager is deciding how much to spend on advertising an upcmmining movie. each ticket is $10. without any advertisment, 20 people are forcasted to attend, Additional people may attend based on advertiser spoending, estimated to be:\n",
        "[Additional atetendees = 2 * round(advertisingDollars]\n",
        "\n",
        "In addition to advertising costs, there are fixed cost to run a theatre of $200\n",
        "Wite a program to generate a table for differnt advertising amoutns and profits\n",
        "\n"
      ]
    },
    {
      "cell_type": "code",
      "execution_count": null,
      "metadata": {
        "colab": {
          "base_uri": "https://localhost:8080/"
        },
        "id": "YkZgAQ1WuRs8",
        "outputId": "5f675247-1a9b-4ad0-ea78-48cbe7991b20"
      },
      "outputs": [
        {
          "name": "stdout",
          "output_type": "stream",
          "text": [
            "Ad$: \t Profit:\n",
            "0 \t 0\n",
            "25 \t 75\n",
            "50 \t 90\n",
            "75 \t 105\n",
            "100 \t 100\n",
            "125 \t 95\n",
            "150 \t 90\n",
            "175 \t 85\n",
            "200 \t 80\n"
          ]
        }
      ],
      "source": [
        " print(\"Ad$:\", '\\t', \"Profit:\")\n",
        "\n",
        "for adMoney in range(0,201,25):\n",
        "  revenue = (20 + 2 * round(adMoney ** 0.5))*10\n",
        "  costs = 200 + adMoney\n",
        "  profit = revenue - costs\n",
        "  print(adMoney, '\\t', profit)"
      ]
    },
    {
      "cell_type": "code",
      "execution_count": null,
      "metadata": {
        "colab": {
          "base_uri": "https://localhost:8080/"
        },
        "id": "dOn7KN9_-hMR",
        "outputId": "a8c88109-1520-465b-e252-d7faff65dba5"
      },
      "outputs": [
        {
          "name": "stdout",
          "output_type": "stream",
          "text": [
            "Ad$: \t Profit:\n",
            "0 \t 0\n",
            "25 \t 75\n",
            "50 \t 90\n",
            "75 \t 105\n",
            "100 \t 100\n",
            "125 \t 95\n",
            "150 \t 90\n",
            "175 \t 85\n",
            "200 \t 80\n"
          ]
        }
      ],
      "source": [
        "print(\"Ad$:\", '\\t', \"Profit:\")\n",
        "adMoney = 0\n",
        "\n",
        "while adMoney <201:\n",
        "  revenue = (20 + 2 * round(adMoney ** 0.5))*10\n",
        "  costs = 200 + adMoney\n",
        "  profit = revenue - costs\n",
        "  print(adMoney, '\\t', profit)\n",
        "  adMoney = adMoney + 25\n"
      ]
    },
    {
      "cell_type": "code",
      "execution_count": null,
      "metadata": {
        "colab": {
          "base_uri": "https://localhost:8080/"
        },
        "id": "H12iOMeQAd2O",
        "outputId": "bf00c3af-a9db-46b6-be7b-6a8778c39d6b"
      },
      "outputs": [
        {
          "name": "stdout",
          "output_type": "stream",
          "text": [
            "8\n",
            "7\n",
            "6\n",
            "End\n"
          ]
        }
      ],
      "source": []
    },
    {
      "cell_type": "markdown",
      "metadata": {
        "id": "dINxGdRuWOV8"
      },
      "source": [
        "ROCK - PAPER - SCISSORS\n",
        "\n",
        "Write a program that includes two players playing the game. each given from th ekeyboard.\n",
        "\n",
        "The game repeats untill the user(s) decide to stop\n",
        "\n",
        "Rock > Paper > Scissors > Rock"
      ]
    },
    {
      "cell_type": "code",
      "execution_count": null,
      "metadata": {
        "colab": {
          "base_uri": "https://localhost:8080/",
          "height": 408
        },
        "id": "TPJSzu3tWfxR",
        "outputId": "7f9afedb-2af5-4146-a7a0-c736b21196e2"
      },
      "outputs": [
        {
          "name": "stdout",
          "output_type": "stream",
          "text": [
            "Would you like to play a game of rock paper scissors? (Y/N) Y\n",
            "Player 1, please choose rock, paper, or scissors rock\n",
            "Player 2, please choose rock, paper, or scissors paper\n",
            "Player 2 wins\n"
          ]
        },
        {
          "ename": "KeyboardInterrupt",
          "evalue": "Interrupted by user",
          "output_type": "error",
          "traceback": [
            "\u001b[0;31m---------------------------------------------------------------------------\u001b[0m",
            "\u001b[0;31mKeyboardInterrupt\u001b[0m                         Traceback (most recent call last)",
            "\u001b[0;32m<ipython-input-42-f2b8e9ea887e>\u001b[0m in \u001b[0;36m<cell line: 0>\u001b[0;34m()\u001b[0m\n\u001b[1;32m     16\u001b[0m \u001b[0;34m\u001b[0m\u001b[0m\n\u001b[1;32m     17\u001b[0m \u001b[0;34m\u001b[0m\u001b[0m\n\u001b[0;32m---> 18\u001b[0;31m   \u001b[0mgame\u001b[0m \u001b[0;34m=\u001b[0m \u001b[0minput\u001b[0m\u001b[0;34m(\u001b[0m\u001b[0;34m'Would you like to play a game of rock paper scissors? (Y/N) '\u001b[0m\u001b[0;34m)\u001b[0m\u001b[0;34m\u001b[0m\u001b[0;34m\u001b[0m\u001b[0m\n\u001b[0m\u001b[1;32m     19\u001b[0m \u001b[0;32melse\u001b[0m\u001b[0;34m:\u001b[0m \u001b[0mprint\u001b[0m\u001b[0;34m(\u001b[0m\u001b[0;34m'Have a good day'\u001b[0m\u001b[0;34m)\u001b[0m\u001b[0;34m\u001b[0m\u001b[0;34m\u001b[0m\u001b[0m\n",
            "\u001b[0;32m/usr/local/lib/python3.11/dist-packages/ipykernel/kernelbase.py\u001b[0m in \u001b[0;36mraw_input\u001b[0;34m(self, prompt)\u001b[0m\n\u001b[1;32m    849\u001b[0m                 \u001b[0;34m\"raw_input was called, but this frontend does not support input requests.\"\u001b[0m\u001b[0;34m\u001b[0m\u001b[0;34m\u001b[0m\u001b[0m\n\u001b[1;32m    850\u001b[0m             )\n\u001b[0;32m--> 851\u001b[0;31m         return self._input_request(str(prompt),\n\u001b[0m\u001b[1;32m    852\u001b[0m             \u001b[0mself\u001b[0m\u001b[0;34m.\u001b[0m\u001b[0m_parent_ident\u001b[0m\u001b[0;34m,\u001b[0m\u001b[0;34m\u001b[0m\u001b[0;34m\u001b[0m\u001b[0m\n\u001b[1;32m    853\u001b[0m             \u001b[0mself\u001b[0m\u001b[0;34m.\u001b[0m\u001b[0m_parent_header\u001b[0m\u001b[0;34m,\u001b[0m\u001b[0;34m\u001b[0m\u001b[0;34m\u001b[0m\u001b[0m\n",
            "\u001b[0;32m/usr/local/lib/python3.11/dist-packages/ipykernel/kernelbase.py\u001b[0m in \u001b[0;36m_input_request\u001b[0;34m(self, prompt, ident, parent, password)\u001b[0m\n\u001b[1;32m    893\u001b[0m             \u001b[0;32mexcept\u001b[0m \u001b[0mKeyboardInterrupt\u001b[0m\u001b[0;34m:\u001b[0m\u001b[0;34m\u001b[0m\u001b[0;34m\u001b[0m\u001b[0m\n\u001b[1;32m    894\u001b[0m                 \u001b[0;31m# re-raise KeyboardInterrupt, to truncate traceback\u001b[0m\u001b[0;34m\u001b[0m\u001b[0;34m\u001b[0m\u001b[0m\n\u001b[0;32m--> 895\u001b[0;31m                 \u001b[0;32mraise\u001b[0m \u001b[0mKeyboardInterrupt\u001b[0m\u001b[0;34m(\u001b[0m\u001b[0;34m\"Interrupted by user\"\u001b[0m\u001b[0;34m)\u001b[0m \u001b[0;32mfrom\u001b[0m \u001b[0;32mNone\u001b[0m\u001b[0;34m\u001b[0m\u001b[0;34m\u001b[0m\u001b[0m\n\u001b[0m\u001b[1;32m    896\u001b[0m             \u001b[0;32mexcept\u001b[0m \u001b[0mException\u001b[0m \u001b[0;32mas\u001b[0m \u001b[0me\u001b[0m\u001b[0;34m:\u001b[0m\u001b[0;34m\u001b[0m\u001b[0;34m\u001b[0m\u001b[0m\n\u001b[1;32m    897\u001b[0m                 \u001b[0mself\u001b[0m\u001b[0;34m.\u001b[0m\u001b[0mlog\u001b[0m\u001b[0;34m.\u001b[0m\u001b[0mwarning\u001b[0m\u001b[0;34m(\u001b[0m\u001b[0;34m\"Invalid Message:\"\u001b[0m\u001b[0;34m,\u001b[0m \u001b[0mexc_info\u001b[0m\u001b[0;34m=\u001b[0m\u001b[0;32mTrue\u001b[0m\u001b[0;34m)\u001b[0m\u001b[0;34m\u001b[0m\u001b[0;34m\u001b[0m\u001b[0m\n",
            "\u001b[0;31mKeyboardInterrupt\u001b[0m: Interrupted by user"
          ]
        }
      ],
      "source": [
        "game = input('Would you like to play a game of rock paper scissors? (Y/N) ')\n",
        "\n",
        "while game == 'Y':\n",
        "  player1 = input('Player 1, please choose rock, paper, or scissors ')\n",
        "  player2 = input('Player 2, please choose rock, paper, or scissors ')\n",
        "  if player1 == player2:\n",
        "    print('It is a tie')\n",
        "  elif player1 == 'rock' and player2 == 'scissors':\n",
        "    print('Player 1 wins')\n",
        "  elif player1 == 'paper' and player2 == 'rock':\n",
        "    print('Player 1 wins')\n",
        "  elif player1 == 'scissors' and player2 == 'paper':\n",
        "    print('Player 1 wins')\n",
        "  else:\n",
        "    print('Player 2 wins')\n",
        "  game = input('Would you like to play a game of rock paper scissors? (Y/N) ')\n",
        "else: print('Have a good day')"
      ]
    },
    {
      "cell_type": "code",
      "execution_count": null,
      "metadata": {
        "colab": {
          "background_save": true,
          "base_uri": "https://localhost:8080/"
        },
        "id": "r4u2yOxhgDUT",
        "outputId": "7615dbc5-fa37-465e-8f4c-e9a849364850"
      },
      "outputs": [
        {
          "name": "stdout",
          "output_type": "stream",
          "text": [
            "Player 2 chose  paper\n",
            "Player 1 chose  rock\n",
            "Player 2 wins\n"
          ]
        }
      ],
      "source": [
        "import random\n",
        "\n",
        "game = input('Would you like to play a game of rock paper scissors? (Y/N) ')\n",
        "\n",
        "while game == 'Y':\n",
        "  player1 = input('Player 1, please choose rock, paper, or scissors ')\n",
        "  player2 = random.choice(['rock', 'paper', 'scissors'])\n",
        "\n",
        "  print('Player 1 chose ', player1,)\n",
        "  print('Player 2 chose ', player2,)\n",
        "\n",
        "  if player1 == player2:\n",
        "    print('It is a tie')\n",
        "  elif player1 == 'rock' and player2 == 'scissors' or player1 == 'scissors' and player2 == 'paper' or player1 == 'paper' and player2 == 'rock':\n",
        "   print('Player 1 wins')\n",
        "  else:\n",
        "    print('Player 2 wins')\n",
        "  game = input('Would you like to play a game of rock paper scissors? (Y/N) ')\n",
        "else: print('Have a good day')"
      ]
    },
    {
      "cell_type": "code",
      "source": [
        "h = \"This is a string\"\n",
        "\n",
        "for idx in range(0, len(h), 1):\n",
        "  print(h[idx])"
      ],
      "metadata": {
        "colab": {
          "base_uri": "https://localhost:8080/"
        },
        "id": "mmdF32FD9TGy",
        "outputId": "f3fc7da4-af1f-4d23-9bdb-ee66a0036027"
      },
      "execution_count": null,
      "outputs": [
        {
          "output_type": "stream",
          "name": "stdout",
          "text": [
            "T\n",
            "h\n",
            "i\n",
            "s\n",
            " \n",
            "i\n",
            "s\n",
            " \n",
            "a\n",
            " \n",
            "s\n",
            "t\n",
            "r\n",
            "i\n",
            "n\n",
            "g\n"
          ]
        }
      ]
    },
    {
      "cell_type": "code",
      "source": [
        "for char in h:\n",
        "  print(char)"
      ],
      "metadata": {
        "id": "zwqkL48BABxr"
      },
      "execution_count": null,
      "outputs": []
    },
    {
      "cell_type": "code",
      "source": [
        "h = \"This is a string\"\n",
        "w = \"Today is Friday\"\n",
        "\n",
        "for c in h:\n",
        "  if c in w:\n",
        "    print('found')\n",
        "    break"
      ],
      "metadata": {
        "colab": {
          "base_uri": "https://localhost:8080/"
        },
        "id": "oaB8oRaBBUPQ",
        "outputId": "112b2746-18fd-41ca-9e81-7af19ea01852"
      },
      "execution_count": null,
      "outputs": [
        {
          "output_type": "stream",
          "name": "stdout",
          "text": [
            "T\n",
            "i\n",
            "s\n",
            " \n",
            "i\n",
            "s\n",
            " \n",
            "a\n",
            " \n",
            "s\n",
            "r\n",
            "i\n"
          ]
        }
      ]
    },
    {
      "cell_type": "markdown",
      "source": [
        "SECTION 4!"
      ],
      "metadata": {
        "id": "KFIRNGmGEFRz"
      }
    },
    {
      "cell_type": "code",
      "source": [
        "empty = []\n",
        "pure = [1, 2, 3]\n",
        "L = [1, 'two', 3.14, [4, 5, 6]]\n",
        "\n",
        "L[2] = h\n",
        "print(L)\n",
        "\n",
        "pure.append([4, 5, 6])\n",
        "print(pure)\n"
      ],
      "metadata": {
        "colab": {
          "base_uri": "https://localhost:8080/"
        },
        "id": "jRPedbClED7x",
        "outputId": "5bafe843-a594-4253-b322-6a6d36cd5301"
      },
      "execution_count": null,
      "outputs": [
        {
          "output_type": "stream",
          "name": "stdout",
          "text": [
            "[1, 'two', 'This is a string', [4, 5, 6]]\n",
            "[1, 2, 3, [4, 5, 6]]\n"
          ]
        }
      ]
    },
    {
      "cell_type": "code",
      "source": [],
      "metadata": {
        "id": "ZM3ASGe2FfCq"
      },
      "execution_count": null,
      "outputs": []
    },
    {
      "cell_type": "code",
      "source": [
        "pure + L"
      ],
      "metadata": {
        "colab": {
          "base_uri": "https://localhost:8080/"
        },
        "id": "UTDHfZ05E2KX",
        "outputId": "8cee81f1-8c76-414b-e697-c3f166154868"
      },
      "execution_count": null,
      "outputs": [
        {
          "output_type": "execute_result",
          "data": {
            "text/plain": [
              "[1, 2, 3, 1, 'two', 3.14, [4, 5, 6]]"
            ]
          },
          "metadata": {},
          "execution_count": 10
        }
      ]
    },
    {
      "cell_type": "markdown",
      "source": [
        "Given an enmpty list, a porgram in Python that populates the list by repeatedly askinbg the user for numerical inputs. The process stops when the user gives 0. Finally, the list should be displayed in descending order."
      ],
      "metadata": {
        "id": "QrNw0PXpdRzi"
      }
    },
    {
      "cell_type": "code",
      "source": [
        "theList = []\n",
        "daNumber = 1\n",
        "\n",
        "while daNumber != 0:\n",
        "  daNumber = input(\"Please insert a numerical value: \")\n",
        "  theList.append(daNumber)\n",
        "  if daNumber == \"0\":\n",
        "    theList.sort()\n",
        "    theList.reverse()\n",
        "    print(theList)\n",
        "    break\n",
        "  else:\n",
        "    print(theList)"
      ],
      "metadata": {
        "colab": {
          "base_uri": "https://localhost:8080/"
        },
        "id": "jlc880Bbdgfx",
        "outputId": "c2184310-cc77-4f98-c057-bf8a1f14a28b"
      },
      "execution_count": 17,
      "outputs": [
        {
          "output_type": "stream",
          "name": "stdout",
          "text": [
            "Please insert a numerical value: 6\n",
            "['6']\n",
            "Please insert a numerical value: 5\n",
            "['6', '5']\n",
            "Please insert a numerical value: \n",
            "['6', '5', '']\n",
            "Please insert a numerical value: \n",
            "['6', '5', '', '']\n",
            "Please insert a numerical value: 8\n",
            "['6', '5', '', '', '8']\n",
            "Please insert a numerical value: 4\n",
            "['6', '5', '', '', '8', '4']\n",
            "Please insert a numerical value: 2\n",
            "['6', '5', '', '', '8', '4', '2']\n",
            "Please insert a numerical value: 9\n",
            "['6', '5', '', '', '8', '4', '2', '9']\n",
            "Please insert a numerical value: 1\n",
            "['6', '5', '', '', '8', '4', '2', '9', '1']\n",
            "Please insert a numerical value: 1\n",
            "['6', '5', '', '', '8', '4', '2', '9', '1', '1']\n",
            "Please insert a numerical value: 0\n",
            "['9', '8', '6', '5', '4', '2', '1', '1', '0', '', '']\n"
          ]
        }
      ]
    }
  ],
  "metadata": {
    "colab": {
      "provenance": [],
      "authorship_tag": "ABX9TyMBb0nW9CNfFkBv37HzvnlN",
      "include_colab_link": true
    },
    "kernelspec": {
      "display_name": "Python 3",
      "name": "python3"
    },
    "language_info": {
      "name": "python"
    }
  },
  "nbformat": 4,
  "nbformat_minor": 0
}