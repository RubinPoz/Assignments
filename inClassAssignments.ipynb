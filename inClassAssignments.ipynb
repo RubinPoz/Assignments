{
  "nbformat": 4,
  "nbformat_minor": 0,
  "metadata": {
    "colab": {
      "provenance": [],
      "authorship_tag": "ABX9TyNRJHrXOtrW8JAqbKDbmFmF",
      "include_colab_link": true
    },
    "kernelspec": {
      "name": "python3",
      "display_name": "Python 3"
    },
    "language_info": {
      "name": "python"
    }
  },
  "cells": [
    {
      "cell_type": "markdown",
      "metadata": {
        "id": "view-in-github",
        "colab_type": "text"
      },
      "source": [
        "<a href=\"https://colab.research.google.com/github/RubinPoz/Assignments/blob/main/inClassAssignments.ipynb\" target=\"_parent\"><img src=\"https://colab.research.google.com/assets/colab-badge.svg\" alt=\"Open In Colab\"/></a>"
      ]
    },
    {
      "cell_type": "code",
      "execution_count": null,
      "metadata": {
        "colab": {
          "base_uri": "https://localhost:8080/"
        },
        "id": "ttL77RpJ2ysY",
        "outputId": "b7413067-92a0-43f2-e223-e9f1f2cf9469"
      },
      "outputs": [
        {
          "output_type": "stream",
          "name": "stdout",
          "text": [
            "Please input your height: 7\n",
            "Please input your radius: 5\n",
            "\n",
            "Your cylinder's area is  376.98\n"
          ]
        }
      ],
      "source": [
        "Pi = 3.1415\n",
        "Height = int(input(\"Please input your height: \"))\n",
        "Radius = int(input(\"Please input your radius: \"))\n",
        "\n",
        "area = ((2*Pi) * (Radius **2)) + ((2*Pi)*Radius * Height)\n",
        "\n",
        "print(\"\\nYour cylinder's area is \", area)"
      ]
    },
    {
      "cell_type": "markdown",
      "source": [
        "Write a program that calculates radius and height (and pi) using 3 inputs. The program than should calculate the surface area of a cynlider.\n",
        "\n",
        "Cylinder = 2piR^2 + 2Pi*R*H"
      ],
      "metadata": {
        "id": "W3KGXwXj27XB"
      }
    }
  ]
}